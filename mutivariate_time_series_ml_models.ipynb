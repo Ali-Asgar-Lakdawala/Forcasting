{
  "nbformat": 4,
  "nbformat_minor": 0,
  "metadata": {
    "colab": {
      "name": "mutivariate time series ml models.ipynb",
      "provenance": [],
      "collapsed_sections": [],
      "include_colab_link": true
    },
    "kernelspec": {
      "name": "python3",
      "display_name": "Python 3"
    },
    "language_info": {
      "name": "python"
    }
  },
  "cells": [
    {
      "cell_type": "markdown",
      "metadata": {
        "id": "view-in-github",
        "colab_type": "text"
      },
      "source": [
        "<a href=\"https://colab.research.google.com/github/Ali-Asgar-Lakdawala/Forcasting/blob/main/mutivariate_time_series_ml_models.ipynb\" target=\"_parent\"><img src=\"https://colab.research.google.com/assets/colab-badge.svg\" alt=\"Open In Colab\"/></a>"
      ]
    },
    {
      "cell_type": "code",
      "execution_count": 42,
      "metadata": {
        "id": "60xj1i7ckU6p"
      },
      "outputs": [],
      "source": [
        "import pandas as pd\n",
        "df=pd.read_csv('https://raw.githubusercontent.com/Ali-Asgar-Lakdawala/Time-Series/main/time_series_data.csv')"
      ]
    },
    {
      "cell_type": "code",
      "source": [
        "df.drop(['avg_pos_transaction_price_ntl','apparent_temperature_high_week'],axis=1,inplace=True)"
      ],
      "metadata": {
        "id": "KWX0Y4XXlzr1"
      },
      "execution_count": 43,
      "outputs": []
    },
    {
      "cell_type": "code",
      "source": [
        "df['locationkey']=df['locationkey'].apply(str)\n"
      ],
      "metadata": {
        "id": "xkoMCmo7lcIN"
      },
      "execution_count": 44,
      "outputs": []
    },
    {
      "cell_type": "code",
      "source": [
        "df_1=pd.get_dummies(df[['new_sku_three_month_flag','locationkey']])"
      ],
      "metadata": {
        "id": "TOEQV1U4lq4s"
      },
      "execution_count": 45,
      "outputs": []
    },
    {
      "cell_type": "code",
      "source": [
        "df.drop(['new_sku_three_month_flag','locationkey','productkey'],axis=1,inplace=True)"
      ],
      "metadata": {
        "id": "EUE72B2PmAdT"
      },
      "execution_count": 46,
      "outputs": []
    },
    {
      "cell_type": "code",
      "source": [
        "df=pd.concat([df,df_1],axis=1)"
      ],
      "metadata": {
        "id": "AfKfL0efGfvA"
      },
      "execution_count": 47,
      "outputs": []
    },
    {
      "cell_type": "code",
      "source": [
        "df['timekey']=pd.to_datetime(df['timekey'])"
      ],
      "metadata": {
        "id": "SwvMW0wTGHJe"
      },
      "execution_count": 48,
      "outputs": []
    },
    {
      "cell_type": "code",
      "source": [
        "df.info()"
      ],
      "metadata": {
        "colab": {
          "base_uri": "https://localhost:8080/"
        },
        "id": "QTYKlE7BKbQ8",
        "outputId": "7e35d77f-abad-49dc-822d-5d29146aa1ba"
      },
      "execution_count": 49,
      "outputs": [
        {
          "output_type": "stream",
          "name": "stdout",
          "text": [
            "<class 'pandas.core.frame.DataFrame'>\n",
            "RangeIndex: 1824 entries, 0 to 1823\n",
            "Data columns (total 7 columns):\n",
            " #   Column                      Non-Null Count  Dtype         \n",
            "---  ------                      --------------  -----         \n",
            " 0   timekey                     1824 non-null   datetime64[ns]\n",
            " 1   total_sales_units           1824 non-null   int64         \n",
            " 2   new_sku_three_month_flag_N  1824 non-null   uint8         \n",
            " 3   new_sku_three_month_flag_Y  1824 non-null   uint8         \n",
            " 4   locationkey_11              1824 non-null   uint8         \n",
            " 5   locationkey_3               1824 non-null   uint8         \n",
            " 6   locationkey_7               1824 non-null   uint8         \n",
            "dtypes: datetime64[ns](1), int64(1), uint8(5)\n",
            "memory usage: 37.5 KB\n"
          ]
        }
      ]
    },
    {
      "cell_type": "code",
      "source": [
        "df.timekey.unique()"
      ],
      "metadata": {
        "colab": {
          "base_uri": "https://localhost:8080/"
        },
        "id": "fAsmUqodKwic",
        "outputId": "d986cbdc-4e27-4f10-f066-1827342008f8"
      },
      "execution_count": 50,
      "outputs": [
        {
          "output_type": "execute_result",
          "data": {
            "text/plain": [
              "array(['2018-01-07T00:00:00.000000000', '2018-01-14T00:00:00.000000000',\n",
              "       '2018-01-21T00:00:00.000000000', '2018-01-28T00:00:00.000000000',\n",
              "       '2018-02-04T00:00:00.000000000', '2018-02-11T00:00:00.000000000',\n",
              "       '2018-02-18T00:00:00.000000000', '2018-02-25T00:00:00.000000000',\n",
              "       '2018-03-04T00:00:00.000000000', '2018-03-11T00:00:00.000000000',\n",
              "       '2018-03-18T00:00:00.000000000', '2018-03-25T00:00:00.000000000',\n",
              "       '2018-04-01T00:00:00.000000000', '2018-04-08T00:00:00.000000000',\n",
              "       '2018-04-15T00:00:00.000000000', '2018-04-22T00:00:00.000000000',\n",
              "       '2018-04-29T00:00:00.000000000', '2018-05-06T00:00:00.000000000',\n",
              "       '2018-05-13T00:00:00.000000000', '2018-05-20T00:00:00.000000000',\n",
              "       '2018-05-27T00:00:00.000000000', '2018-06-03T00:00:00.000000000',\n",
              "       '2018-06-10T00:00:00.000000000', '2018-06-17T00:00:00.000000000',\n",
              "       '2018-06-24T00:00:00.000000000', '2018-07-01T00:00:00.000000000',\n",
              "       '2018-07-08T00:00:00.000000000', '2018-07-15T00:00:00.000000000',\n",
              "       '2018-07-22T00:00:00.000000000', '2018-07-29T00:00:00.000000000',\n",
              "       '2018-08-05T00:00:00.000000000', '2018-08-12T00:00:00.000000000',\n",
              "       '2018-08-19T00:00:00.000000000', '2018-08-26T00:00:00.000000000',\n",
              "       '2018-09-02T00:00:00.000000000', '2018-09-09T00:00:00.000000000',\n",
              "       '2018-09-16T00:00:00.000000000', '2018-09-23T00:00:00.000000000',\n",
              "       '2018-09-30T00:00:00.000000000', '2018-10-07T00:00:00.000000000',\n",
              "       '2018-10-14T00:00:00.000000000', '2018-10-21T00:00:00.000000000',\n",
              "       '2018-10-28T00:00:00.000000000', '2018-11-04T00:00:00.000000000',\n",
              "       '2018-11-11T00:00:00.000000000', '2018-11-18T00:00:00.000000000',\n",
              "       '2018-11-25T00:00:00.000000000', '2018-12-02T00:00:00.000000000',\n",
              "       '2018-12-09T00:00:00.000000000', '2018-12-16T00:00:00.000000000',\n",
              "       '2018-12-23T00:00:00.000000000', '2018-12-30T00:00:00.000000000',\n",
              "       '2019-01-06T00:00:00.000000000', '2019-01-13T00:00:00.000000000',\n",
              "       '2019-01-20T00:00:00.000000000', '2019-01-27T00:00:00.000000000',\n",
              "       '2019-02-03T00:00:00.000000000', '2019-02-10T00:00:00.000000000',\n",
              "       '2019-02-17T00:00:00.000000000', '2019-02-24T00:00:00.000000000',\n",
              "       '2019-03-03T00:00:00.000000000', '2019-03-10T00:00:00.000000000',\n",
              "       '2019-03-17T00:00:00.000000000', '2019-03-24T00:00:00.000000000',\n",
              "       '2019-03-31T00:00:00.000000000', '2019-04-07T00:00:00.000000000',\n",
              "       '2019-04-14T00:00:00.000000000', '2019-04-21T00:00:00.000000000',\n",
              "       '2019-04-28T00:00:00.000000000', '2019-05-05T00:00:00.000000000',\n",
              "       '2019-05-12T00:00:00.000000000', '2019-05-19T00:00:00.000000000',\n",
              "       '2019-05-26T00:00:00.000000000', '2019-06-02T00:00:00.000000000',\n",
              "       '2019-06-09T00:00:00.000000000', '2019-06-16T00:00:00.000000000',\n",
              "       '2019-06-23T00:00:00.000000000', '2019-06-30T00:00:00.000000000',\n",
              "       '2019-07-07T00:00:00.000000000', '2019-07-14T00:00:00.000000000',\n",
              "       '2019-07-21T00:00:00.000000000', '2019-07-28T00:00:00.000000000',\n",
              "       '2019-08-04T00:00:00.000000000', '2019-08-11T00:00:00.000000000',\n",
              "       '2019-08-18T00:00:00.000000000', '2019-08-25T00:00:00.000000000',\n",
              "       '2019-09-01T00:00:00.000000000', '2019-09-08T00:00:00.000000000',\n",
              "       '2019-09-15T00:00:00.000000000', '2019-09-22T00:00:00.000000000',\n",
              "       '2019-09-29T00:00:00.000000000', '2019-10-06T00:00:00.000000000',\n",
              "       '2019-10-13T00:00:00.000000000', '2019-10-20T00:00:00.000000000',\n",
              "       '2019-10-27T00:00:00.000000000', '2019-11-03T00:00:00.000000000',\n",
              "       '2019-11-10T00:00:00.000000000', '2019-11-17T00:00:00.000000000',\n",
              "       '2019-11-24T00:00:00.000000000', '2019-12-01T00:00:00.000000000',\n",
              "       '2019-12-08T00:00:00.000000000', '2019-12-15T00:00:00.000000000',\n",
              "       '2019-12-22T00:00:00.000000000', '2019-12-29T00:00:00.000000000'],\n",
              "      dtype='datetime64[ns]')"
            ]
          },
          "metadata": {},
          "execution_count": 50
        }
      ]
    },
    {
      "cell_type": "code",
      "source": [
        "df=df.groupby(['timekey','new_sku_three_month_flag_N','new_sku_three_month_flag_Y','locationkey_11','locationkey_3','locationkey_7'],as_index=False).sum()"
      ],
      "metadata": {
        "id": "b-69MqTNkkaW"
      },
      "execution_count": 51,
      "outputs": []
    },
    {
      "cell_type": "code",
      "source": [
        "df.info()"
      ],
      "metadata": {
        "colab": {
          "base_uri": "https://localhost:8080/"
        },
        "id": "u4p7iNQ_K6ly",
        "outputId": "c3938163-98eb-48db-fc10-72a0e4ffaf2e"
      },
      "execution_count": 52,
      "outputs": [
        {
          "output_type": "stream",
          "name": "stdout",
          "text": [
            "<class 'pandas.core.frame.DataFrame'>\n",
            "RangeIndex: 380 entries, 0 to 379\n",
            "Data columns (total 7 columns):\n",
            " #   Column                      Non-Null Count  Dtype         \n",
            "---  ------                      --------------  -----         \n",
            " 0   timekey                     380 non-null    datetime64[ns]\n",
            " 1   new_sku_three_month_flag_N  380 non-null    uint64        \n",
            " 2   new_sku_three_month_flag_Y  380 non-null    uint64        \n",
            " 3   locationkey_11              380 non-null    uint64        \n",
            " 4   locationkey_3               380 non-null    uint64        \n",
            " 5   locationkey_7               380 non-null    uint64        \n",
            " 6   total_sales_units           380 non-null    int64         \n",
            "dtypes: datetime64[ns](1), int64(1), uint64(5)\n",
            "memory usage: 20.9 KB\n"
          ]
        }
      ]
    },
    {
      "cell_type": "code",
      "source": [
        "from datetime import datetime,timedelta\n",
        "df.timekey+timedelta(days=-7)"
      ],
      "metadata": {
        "colab": {
          "base_uri": "https://localhost:8080/"
        },
        "id": "3IRw-9VG2bGS",
        "outputId": "e29c4475-8985-4bfd-bdf6-6e28a209d833"
      },
      "execution_count": 53,
      "outputs": [
        {
          "output_type": "execute_result",
          "data": {
            "text/plain": [
              "0     2017-12-31\n",
              "1     2017-12-31\n",
              "2     2017-12-31\n",
              "3     2018-01-07\n",
              "4     2018-01-07\n",
              "         ...    \n",
              "375   2019-12-15\n",
              "376   2019-12-15\n",
              "377   2019-12-22\n",
              "378   2019-12-22\n",
              "379   2019-12-22\n",
              "Name: timekey, Length: 380, dtype: datetime64[ns]"
            ]
          },
          "metadata": {},
          "execution_count": 53
        }
      ]
    },
    {
      "cell_type": "code",
      "source": [
        "df_1=df.copy()"
      ],
      "metadata": {
        "id": "665-oVdY4sLu"
      },
      "execution_count": 54,
      "outputs": []
    },
    {
      "cell_type": "code",
      "source": [
        "df_1.timekey=df.timekey+timedelta(days=+7)"
      ],
      "metadata": {
        "id": "j3w4pomS4vsw"
      },
      "execution_count": 55,
      "outputs": []
    },
    {
      "cell_type": "code",
      "source": [
        "df_1.head()"
      ],
      "metadata": {
        "colab": {
          "base_uri": "https://localhost:8080/",
          "height": 206
        },
        "id": "hqJyLDXX4vpY",
        "outputId": "49e40531-5beb-4a89-9de6-c5f7efef8d0c"
      },
      "execution_count": 56,
      "outputs": [
        {
          "output_type": "execute_result",
          "data": {
            "text/plain": [
              "     timekey  new_sku_three_month_flag_N  new_sku_three_month_flag_Y  \\\n",
              "0 2018-01-14                           1                           0   \n",
              "1 2018-01-14                           1                           0   \n",
              "2 2018-01-14                           1                           0   \n",
              "3 2018-01-21                           0                           1   \n",
              "4 2018-01-21                           0                           1   \n",
              "\n",
              "   locationkey_11  locationkey_3  locationkey_7  total_sales_units  \n",
              "0               0              0              1                 12  \n",
              "1               0              1              0                 11  \n",
              "2               1              0              0                  7  \n",
              "3               0              0              1                  2  \n",
              "4               0              1              0                  6  "
            ],
            "text/html": [
              "\n",
              "  <div id=\"df-782fd468-1e71-4b63-8823-e4eb5b749114\">\n",
              "    <div class=\"colab-df-container\">\n",
              "      <div>\n",
              "<style scoped>\n",
              "    .dataframe tbody tr th:only-of-type {\n",
              "        vertical-align: middle;\n",
              "    }\n",
              "\n",
              "    .dataframe tbody tr th {\n",
              "        vertical-align: top;\n",
              "    }\n",
              "\n",
              "    .dataframe thead th {\n",
              "        text-align: right;\n",
              "    }\n",
              "</style>\n",
              "<table border=\"1\" class=\"dataframe\">\n",
              "  <thead>\n",
              "    <tr style=\"text-align: right;\">\n",
              "      <th></th>\n",
              "      <th>timekey</th>\n",
              "      <th>new_sku_three_month_flag_N</th>\n",
              "      <th>new_sku_three_month_flag_Y</th>\n",
              "      <th>locationkey_11</th>\n",
              "      <th>locationkey_3</th>\n",
              "      <th>locationkey_7</th>\n",
              "      <th>total_sales_units</th>\n",
              "    </tr>\n",
              "  </thead>\n",
              "  <tbody>\n",
              "    <tr>\n",
              "      <th>0</th>\n",
              "      <td>2018-01-14</td>\n",
              "      <td>1</td>\n",
              "      <td>0</td>\n",
              "      <td>0</td>\n",
              "      <td>0</td>\n",
              "      <td>1</td>\n",
              "      <td>12</td>\n",
              "    </tr>\n",
              "    <tr>\n",
              "      <th>1</th>\n",
              "      <td>2018-01-14</td>\n",
              "      <td>1</td>\n",
              "      <td>0</td>\n",
              "      <td>0</td>\n",
              "      <td>1</td>\n",
              "      <td>0</td>\n",
              "      <td>11</td>\n",
              "    </tr>\n",
              "    <tr>\n",
              "      <th>2</th>\n",
              "      <td>2018-01-14</td>\n",
              "      <td>1</td>\n",
              "      <td>0</td>\n",
              "      <td>1</td>\n",
              "      <td>0</td>\n",
              "      <td>0</td>\n",
              "      <td>7</td>\n",
              "    </tr>\n",
              "    <tr>\n",
              "      <th>3</th>\n",
              "      <td>2018-01-21</td>\n",
              "      <td>0</td>\n",
              "      <td>1</td>\n",
              "      <td>0</td>\n",
              "      <td>0</td>\n",
              "      <td>1</td>\n",
              "      <td>2</td>\n",
              "    </tr>\n",
              "    <tr>\n",
              "      <th>4</th>\n",
              "      <td>2018-01-21</td>\n",
              "      <td>0</td>\n",
              "      <td>1</td>\n",
              "      <td>0</td>\n",
              "      <td>1</td>\n",
              "      <td>0</td>\n",
              "      <td>6</td>\n",
              "    </tr>\n",
              "  </tbody>\n",
              "</table>\n",
              "</div>\n",
              "      <button class=\"colab-df-convert\" onclick=\"convertToInteractive('df-782fd468-1e71-4b63-8823-e4eb5b749114')\"\n",
              "              title=\"Convert this dataframe to an interactive table.\"\n",
              "              style=\"display:none;\">\n",
              "        \n",
              "  <svg xmlns=\"http://www.w3.org/2000/svg\" height=\"24px\"viewBox=\"0 0 24 24\"\n",
              "       width=\"24px\">\n",
              "    <path d=\"M0 0h24v24H0V0z\" fill=\"none\"/>\n",
              "    <path d=\"M18.56 5.44l.94 2.06.94-2.06 2.06-.94-2.06-.94-.94-2.06-.94 2.06-2.06.94zm-11 1L8.5 8.5l.94-2.06 2.06-.94-2.06-.94L8.5 2.5l-.94 2.06-2.06.94zm10 10l.94 2.06.94-2.06 2.06-.94-2.06-.94-.94-2.06-.94 2.06-2.06.94z\"/><path d=\"M17.41 7.96l-1.37-1.37c-.4-.4-.92-.59-1.43-.59-.52 0-1.04.2-1.43.59L10.3 9.45l-7.72 7.72c-.78.78-.78 2.05 0 2.83L4 21.41c.39.39.9.59 1.41.59.51 0 1.02-.2 1.41-.59l7.78-7.78 2.81-2.81c.8-.78.8-2.07 0-2.86zM5.41 20L4 18.59l7.72-7.72 1.47 1.35L5.41 20z\"/>\n",
              "  </svg>\n",
              "      </button>\n",
              "      \n",
              "  <style>\n",
              "    .colab-df-container {\n",
              "      display:flex;\n",
              "      flex-wrap:wrap;\n",
              "      gap: 12px;\n",
              "    }\n",
              "\n",
              "    .colab-df-convert {\n",
              "      background-color: #E8F0FE;\n",
              "      border: none;\n",
              "      border-radius: 50%;\n",
              "      cursor: pointer;\n",
              "      display: none;\n",
              "      fill: #1967D2;\n",
              "      height: 32px;\n",
              "      padding: 0 0 0 0;\n",
              "      width: 32px;\n",
              "    }\n",
              "\n",
              "    .colab-df-convert:hover {\n",
              "      background-color: #E2EBFA;\n",
              "      box-shadow: 0px 1px 2px rgba(60, 64, 67, 0.3), 0px 1px 3px 1px rgba(60, 64, 67, 0.15);\n",
              "      fill: #174EA6;\n",
              "    }\n",
              "\n",
              "    [theme=dark] .colab-df-convert {\n",
              "      background-color: #3B4455;\n",
              "      fill: #D2E3FC;\n",
              "    }\n",
              "\n",
              "    [theme=dark] .colab-df-convert:hover {\n",
              "      background-color: #434B5C;\n",
              "      box-shadow: 0px 1px 3px 1px rgba(0, 0, 0, 0.15);\n",
              "      filter: drop-shadow(0px 1px 2px rgba(0, 0, 0, 0.3));\n",
              "      fill: #FFFFFF;\n",
              "    }\n",
              "  </style>\n",
              "\n",
              "      <script>\n",
              "        const buttonEl =\n",
              "          document.querySelector('#df-782fd468-1e71-4b63-8823-e4eb5b749114 button.colab-df-convert');\n",
              "        buttonEl.style.display =\n",
              "          google.colab.kernel.accessAllowed ? 'block' : 'none';\n",
              "\n",
              "        async function convertToInteractive(key) {\n",
              "          const element = document.querySelector('#df-782fd468-1e71-4b63-8823-e4eb5b749114');\n",
              "          const dataTable =\n",
              "            await google.colab.kernel.invokeFunction('convertToInteractive',\n",
              "                                                     [key], {});\n",
              "          if (!dataTable) return;\n",
              "\n",
              "          const docLinkHtml = 'Like what you see? Visit the ' +\n",
              "            '<a target=\"_blank\" href=https://colab.research.google.com/notebooks/data_table.ipynb>data table notebook</a>'\n",
              "            + ' to learn more about interactive tables.';\n",
              "          element.innerHTML = '';\n",
              "          dataTable['output_type'] = 'display_data';\n",
              "          await google.colab.output.renderOutput(dataTable, element);\n",
              "          const docLink = document.createElement('div');\n",
              "          docLink.innerHTML = docLinkHtml;\n",
              "          element.appendChild(docLink);\n",
              "        }\n",
              "      </script>\n",
              "    </div>\n",
              "  </div>\n",
              "  "
            ]
          },
          "metadata": {},
          "execution_count": 56
        }
      ]
    },
    {
      "cell_type": "code",
      "source": [
        "df.head()"
      ],
      "metadata": {
        "colab": {
          "base_uri": "https://localhost:8080/",
          "height": 206
        },
        "id": "uZyV6_1SgNTr",
        "outputId": "64ccb948-cd20-4bb4-8d5d-26a1c70060c7"
      },
      "execution_count": 57,
      "outputs": [
        {
          "output_type": "execute_result",
          "data": {
            "text/plain": [
              "     timekey  new_sku_three_month_flag_N  new_sku_three_month_flag_Y  \\\n",
              "0 2018-01-07                           1                           0   \n",
              "1 2018-01-07                           1                           0   \n",
              "2 2018-01-07                           1                           0   \n",
              "3 2018-01-14                           0                           1   \n",
              "4 2018-01-14                           0                           1   \n",
              "\n",
              "   locationkey_11  locationkey_3  locationkey_7  total_sales_units  \n",
              "0               0              0              1                 12  \n",
              "1               0              1              0                 11  \n",
              "2               1              0              0                  7  \n",
              "3               0              0              1                  2  \n",
              "4               0              1              0                  6  "
            ],
            "text/html": [
              "\n",
              "  <div id=\"df-0785bbc5-c087-49f8-bb2e-eccd5bbff670\">\n",
              "    <div class=\"colab-df-container\">\n",
              "      <div>\n",
              "<style scoped>\n",
              "    .dataframe tbody tr th:only-of-type {\n",
              "        vertical-align: middle;\n",
              "    }\n",
              "\n",
              "    .dataframe tbody tr th {\n",
              "        vertical-align: top;\n",
              "    }\n",
              "\n",
              "    .dataframe thead th {\n",
              "        text-align: right;\n",
              "    }\n",
              "</style>\n",
              "<table border=\"1\" class=\"dataframe\">\n",
              "  <thead>\n",
              "    <tr style=\"text-align: right;\">\n",
              "      <th></th>\n",
              "      <th>timekey</th>\n",
              "      <th>new_sku_three_month_flag_N</th>\n",
              "      <th>new_sku_three_month_flag_Y</th>\n",
              "      <th>locationkey_11</th>\n",
              "      <th>locationkey_3</th>\n",
              "      <th>locationkey_7</th>\n",
              "      <th>total_sales_units</th>\n",
              "    </tr>\n",
              "  </thead>\n",
              "  <tbody>\n",
              "    <tr>\n",
              "      <th>0</th>\n",
              "      <td>2018-01-07</td>\n",
              "      <td>1</td>\n",
              "      <td>0</td>\n",
              "      <td>0</td>\n",
              "      <td>0</td>\n",
              "      <td>1</td>\n",
              "      <td>12</td>\n",
              "    </tr>\n",
              "    <tr>\n",
              "      <th>1</th>\n",
              "      <td>2018-01-07</td>\n",
              "      <td>1</td>\n",
              "      <td>0</td>\n",
              "      <td>0</td>\n",
              "      <td>1</td>\n",
              "      <td>0</td>\n",
              "      <td>11</td>\n",
              "    </tr>\n",
              "    <tr>\n",
              "      <th>2</th>\n",
              "      <td>2018-01-07</td>\n",
              "      <td>1</td>\n",
              "      <td>0</td>\n",
              "      <td>1</td>\n",
              "      <td>0</td>\n",
              "      <td>0</td>\n",
              "      <td>7</td>\n",
              "    </tr>\n",
              "    <tr>\n",
              "      <th>3</th>\n",
              "      <td>2018-01-14</td>\n",
              "      <td>0</td>\n",
              "      <td>1</td>\n",
              "      <td>0</td>\n",
              "      <td>0</td>\n",
              "      <td>1</td>\n",
              "      <td>2</td>\n",
              "    </tr>\n",
              "    <tr>\n",
              "      <th>4</th>\n",
              "      <td>2018-01-14</td>\n",
              "      <td>0</td>\n",
              "      <td>1</td>\n",
              "      <td>0</td>\n",
              "      <td>1</td>\n",
              "      <td>0</td>\n",
              "      <td>6</td>\n",
              "    </tr>\n",
              "  </tbody>\n",
              "</table>\n",
              "</div>\n",
              "      <button class=\"colab-df-convert\" onclick=\"convertToInteractive('df-0785bbc5-c087-49f8-bb2e-eccd5bbff670')\"\n",
              "              title=\"Convert this dataframe to an interactive table.\"\n",
              "              style=\"display:none;\">\n",
              "        \n",
              "  <svg xmlns=\"http://www.w3.org/2000/svg\" height=\"24px\"viewBox=\"0 0 24 24\"\n",
              "       width=\"24px\">\n",
              "    <path d=\"M0 0h24v24H0V0z\" fill=\"none\"/>\n",
              "    <path d=\"M18.56 5.44l.94 2.06.94-2.06 2.06-.94-2.06-.94-.94-2.06-.94 2.06-2.06.94zm-11 1L8.5 8.5l.94-2.06 2.06-.94-2.06-.94L8.5 2.5l-.94 2.06-2.06.94zm10 10l.94 2.06.94-2.06 2.06-.94-2.06-.94-.94-2.06-.94 2.06-2.06.94z\"/><path d=\"M17.41 7.96l-1.37-1.37c-.4-.4-.92-.59-1.43-.59-.52 0-1.04.2-1.43.59L10.3 9.45l-7.72 7.72c-.78.78-.78 2.05 0 2.83L4 21.41c.39.39.9.59 1.41.59.51 0 1.02-.2 1.41-.59l7.78-7.78 2.81-2.81c.8-.78.8-2.07 0-2.86zM5.41 20L4 18.59l7.72-7.72 1.47 1.35L5.41 20z\"/>\n",
              "  </svg>\n",
              "      </button>\n",
              "      \n",
              "  <style>\n",
              "    .colab-df-container {\n",
              "      display:flex;\n",
              "      flex-wrap:wrap;\n",
              "      gap: 12px;\n",
              "    }\n",
              "\n",
              "    .colab-df-convert {\n",
              "      background-color: #E8F0FE;\n",
              "      border: none;\n",
              "      border-radius: 50%;\n",
              "      cursor: pointer;\n",
              "      display: none;\n",
              "      fill: #1967D2;\n",
              "      height: 32px;\n",
              "      padding: 0 0 0 0;\n",
              "      width: 32px;\n",
              "    }\n",
              "\n",
              "    .colab-df-convert:hover {\n",
              "      background-color: #E2EBFA;\n",
              "      box-shadow: 0px 1px 2px rgba(60, 64, 67, 0.3), 0px 1px 3px 1px rgba(60, 64, 67, 0.15);\n",
              "      fill: #174EA6;\n",
              "    }\n",
              "\n",
              "    [theme=dark] .colab-df-convert {\n",
              "      background-color: #3B4455;\n",
              "      fill: #D2E3FC;\n",
              "    }\n",
              "\n",
              "    [theme=dark] .colab-df-convert:hover {\n",
              "      background-color: #434B5C;\n",
              "      box-shadow: 0px 1px 3px 1px rgba(0, 0, 0, 0.15);\n",
              "      filter: drop-shadow(0px 1px 2px rgba(0, 0, 0, 0.3));\n",
              "      fill: #FFFFFF;\n",
              "    }\n",
              "  </style>\n",
              "\n",
              "      <script>\n",
              "        const buttonEl =\n",
              "          document.querySelector('#df-0785bbc5-c087-49f8-bb2e-eccd5bbff670 button.colab-df-convert');\n",
              "        buttonEl.style.display =\n",
              "          google.colab.kernel.accessAllowed ? 'block' : 'none';\n",
              "\n",
              "        async function convertToInteractive(key) {\n",
              "          const element = document.querySelector('#df-0785bbc5-c087-49f8-bb2e-eccd5bbff670');\n",
              "          const dataTable =\n",
              "            await google.colab.kernel.invokeFunction('convertToInteractive',\n",
              "                                                     [key], {});\n",
              "          if (!dataTable) return;\n",
              "\n",
              "          const docLinkHtml = 'Like what you see? Visit the ' +\n",
              "            '<a target=\"_blank\" href=https://colab.research.google.com/notebooks/data_table.ipynb>data table notebook</a>'\n",
              "            + ' to learn more about interactive tables.';\n",
              "          element.innerHTML = '';\n",
              "          dataTable['output_type'] = 'display_data';\n",
              "          await google.colab.output.renderOutput(dataTable, element);\n",
              "          const docLink = document.createElement('div');\n",
              "          docLink.innerHTML = docLinkHtml;\n",
              "          element.appendChild(docLink);\n",
              "        }\n",
              "      </script>\n",
              "    </div>\n",
              "  </div>\n",
              "  "
            ]
          },
          "metadata": {},
          "execution_count": 57
        }
      ]
    },
    {
      "cell_type": "code",
      "source": [
        "df_1=pd.merge(df,df_1,how=\"left\",on=['timekey','new_sku_three_month_flag_N','new_sku_three_month_flag_Y','locationkey_11','locationkey_3','locationkey_7'])"
      ],
      "metadata": {
        "id": "GDzCJwFW7JPf"
      },
      "execution_count": 58,
      "outputs": []
    },
    {
      "cell_type": "code",
      "source": [
        "df_1.rename(columns = {'total_sales_units_y':'total_sales_units_lag_1week','total_sales_units_x':'total_sales_units'}, inplace = True)"
      ],
      "metadata": {
        "id": "OD8mgfrTbpqU"
      },
      "execution_count": 59,
      "outputs": []
    },
    {
      "cell_type": "code",
      "source": [
        "df_2=df.copy()\n",
        "df_2.timekey=df.timekey+timedelta(days=+14)\n",
        "df_2=pd.merge(df_1,df_2,how=\"left\",on=['timekey','new_sku_three_month_flag_N','new_sku_three_month_flag_Y','locationkey_11','locationkey_3','locationkey_7'])\n",
        "df_2.rename(columns = {'total_sales_units_y':'total_sales_units_lag_2week','total_sales_units_x':'total_sales_units'}, inplace = True)"
      ],
      "metadata": {
        "id": "G-TKvxpYAck7"
      },
      "execution_count": 60,
      "outputs": []
    },
    {
      "cell_type": "code",
      "source": [
        "df_3=df.copy()\n",
        "df_3.timekey=df.timekey+timedelta(days=+21)\n",
        "df_3=pd.merge(df_2,df_3,how=\"left\",on=['timekey','new_sku_three_month_flag_N','new_sku_three_month_flag_Y','locationkey_11','locationkey_3','locationkey_7'])\n",
        "df_3.rename(columns = {'total_sales_units_y':'total_sales_units_lag_3week','total_sales_units_x':'total_sales_units'}, inplace = True)"
      ],
      "metadata": {
        "id": "GRkT-llxDkku"
      },
      "execution_count": 61,
      "outputs": []
    },
    {
      "cell_type": "code",
      "source": [
        "df_4=df.copy()\n",
        "df_4.timekey=df.timekey+timedelta(days=+28)\n",
        "df_4=pd.merge(df_3,df_4,how=\"left\",on=['timekey','new_sku_three_month_flag_N','new_sku_three_month_flag_Y','locationkey_11','locationkey_3','locationkey_7'])\n",
        "df_4.rename(columns = {'total_sales_units_y':'total_sales_units_lag_4week','total_sales_units_x':'total_sales_units'}, inplace = True)"
      ],
      "metadata": {
        "id": "N7WLttXmxUv9"
      },
      "execution_count": 62,
      "outputs": []
    },
    {
      "cell_type": "code",
      "source": [
        "df_5=df.copy()\n",
        "df_5.timekey=df.timekey+timedelta(days=+35)\n",
        "df_5=pd.merge(df_4,df_5,how=\"left\",on=['timekey','new_sku_three_month_flag_N','new_sku_three_month_flag_Y','locationkey_11','locationkey_3','locationkey_7'])\n",
        "df_5.rename(columns = {'total_sales_units_y':'total_sales_units_lag_5week','total_sales_units_x':'total_sales_units'}, inplace = True)"
      ],
      "metadata": {
        "id": "-x3jPq9mDvCZ"
      },
      "execution_count": 63,
      "outputs": []
    },
    {
      "cell_type": "code",
      "source": [
        "df_5.head()"
      ],
      "metadata": {
        "colab": {
          "base_uri": "https://localhost:8080/",
          "height": 357
        },
        "id": "buDQ81V8EHLb",
        "outputId": "b480f593-f2b4-4452-8153-0f06945492c4"
      },
      "execution_count": 64,
      "outputs": [
        {
          "output_type": "execute_result",
          "data": {
            "text/plain": [
              "     timekey  new_sku_three_month_flag_N  new_sku_three_month_flag_Y  \\\n",
              "0 2018-01-07                           1                           0   \n",
              "1 2018-01-07                           1                           0   \n",
              "2 2018-01-07                           1                           0   \n",
              "3 2018-01-14                           0                           1   \n",
              "4 2018-01-14                           0                           1   \n",
              "\n",
              "   locationkey_11  locationkey_3  locationkey_7  total_sales_units  \\\n",
              "0               0              0              1                 12   \n",
              "1               0              1              0                 11   \n",
              "2               1              0              0                  7   \n",
              "3               0              0              1                  2   \n",
              "4               0              1              0                  6   \n",
              "\n",
              "   total_sales_units_lag_1week  total_sales_units_lag_2week  \\\n",
              "0                          NaN                          NaN   \n",
              "1                          NaN                          NaN   \n",
              "2                          NaN                          NaN   \n",
              "3                          NaN                          NaN   \n",
              "4                          NaN                          NaN   \n",
              "\n",
              "   total_sales_units_lag_3week  total_sales_units_lag_4week  \\\n",
              "0                          NaN                          NaN   \n",
              "1                          NaN                          NaN   \n",
              "2                          NaN                          NaN   \n",
              "3                          NaN                          NaN   \n",
              "4                          NaN                          NaN   \n",
              "\n",
              "   total_sales_units_lag_5week  \n",
              "0                          NaN  \n",
              "1                          NaN  \n",
              "2                          NaN  \n",
              "3                          NaN  \n",
              "4                          NaN  "
            ],
            "text/html": [
              "\n",
              "  <div id=\"df-3db8a47d-084f-442d-b481-9a04c79ff2d1\">\n",
              "    <div class=\"colab-df-container\">\n",
              "      <div>\n",
              "<style scoped>\n",
              "    .dataframe tbody tr th:only-of-type {\n",
              "        vertical-align: middle;\n",
              "    }\n",
              "\n",
              "    .dataframe tbody tr th {\n",
              "        vertical-align: top;\n",
              "    }\n",
              "\n",
              "    .dataframe thead th {\n",
              "        text-align: right;\n",
              "    }\n",
              "</style>\n",
              "<table border=\"1\" class=\"dataframe\">\n",
              "  <thead>\n",
              "    <tr style=\"text-align: right;\">\n",
              "      <th></th>\n",
              "      <th>timekey</th>\n",
              "      <th>new_sku_three_month_flag_N</th>\n",
              "      <th>new_sku_three_month_flag_Y</th>\n",
              "      <th>locationkey_11</th>\n",
              "      <th>locationkey_3</th>\n",
              "      <th>locationkey_7</th>\n",
              "      <th>total_sales_units</th>\n",
              "      <th>total_sales_units_lag_1week</th>\n",
              "      <th>total_sales_units_lag_2week</th>\n",
              "      <th>total_sales_units_lag_3week</th>\n",
              "      <th>total_sales_units_lag_4week</th>\n",
              "      <th>total_sales_units_lag_5week</th>\n",
              "    </tr>\n",
              "  </thead>\n",
              "  <tbody>\n",
              "    <tr>\n",
              "      <th>0</th>\n",
              "      <td>2018-01-07</td>\n",
              "      <td>1</td>\n",
              "      <td>0</td>\n",
              "      <td>0</td>\n",
              "      <td>0</td>\n",
              "      <td>1</td>\n",
              "      <td>12</td>\n",
              "      <td>NaN</td>\n",
              "      <td>NaN</td>\n",
              "      <td>NaN</td>\n",
              "      <td>NaN</td>\n",
              "      <td>NaN</td>\n",
              "    </tr>\n",
              "    <tr>\n",
              "      <th>1</th>\n",
              "      <td>2018-01-07</td>\n",
              "      <td>1</td>\n",
              "      <td>0</td>\n",
              "      <td>0</td>\n",
              "      <td>1</td>\n",
              "      <td>0</td>\n",
              "      <td>11</td>\n",
              "      <td>NaN</td>\n",
              "      <td>NaN</td>\n",
              "      <td>NaN</td>\n",
              "      <td>NaN</td>\n",
              "      <td>NaN</td>\n",
              "    </tr>\n",
              "    <tr>\n",
              "      <th>2</th>\n",
              "      <td>2018-01-07</td>\n",
              "      <td>1</td>\n",
              "      <td>0</td>\n",
              "      <td>1</td>\n",
              "      <td>0</td>\n",
              "      <td>0</td>\n",
              "      <td>7</td>\n",
              "      <td>NaN</td>\n",
              "      <td>NaN</td>\n",
              "      <td>NaN</td>\n",
              "      <td>NaN</td>\n",
              "      <td>NaN</td>\n",
              "    </tr>\n",
              "    <tr>\n",
              "      <th>3</th>\n",
              "      <td>2018-01-14</td>\n",
              "      <td>0</td>\n",
              "      <td>1</td>\n",
              "      <td>0</td>\n",
              "      <td>0</td>\n",
              "      <td>1</td>\n",
              "      <td>2</td>\n",
              "      <td>NaN</td>\n",
              "      <td>NaN</td>\n",
              "      <td>NaN</td>\n",
              "      <td>NaN</td>\n",
              "      <td>NaN</td>\n",
              "    </tr>\n",
              "    <tr>\n",
              "      <th>4</th>\n",
              "      <td>2018-01-14</td>\n",
              "      <td>0</td>\n",
              "      <td>1</td>\n",
              "      <td>0</td>\n",
              "      <td>1</td>\n",
              "      <td>0</td>\n",
              "      <td>6</td>\n",
              "      <td>NaN</td>\n",
              "      <td>NaN</td>\n",
              "      <td>NaN</td>\n",
              "      <td>NaN</td>\n",
              "      <td>NaN</td>\n",
              "    </tr>\n",
              "  </tbody>\n",
              "</table>\n",
              "</div>\n",
              "      <button class=\"colab-df-convert\" onclick=\"convertToInteractive('df-3db8a47d-084f-442d-b481-9a04c79ff2d1')\"\n",
              "              title=\"Convert this dataframe to an interactive table.\"\n",
              "              style=\"display:none;\">\n",
              "        \n",
              "  <svg xmlns=\"http://www.w3.org/2000/svg\" height=\"24px\"viewBox=\"0 0 24 24\"\n",
              "       width=\"24px\">\n",
              "    <path d=\"M0 0h24v24H0V0z\" fill=\"none\"/>\n",
              "    <path d=\"M18.56 5.44l.94 2.06.94-2.06 2.06-.94-2.06-.94-.94-2.06-.94 2.06-2.06.94zm-11 1L8.5 8.5l.94-2.06 2.06-.94-2.06-.94L8.5 2.5l-.94 2.06-2.06.94zm10 10l.94 2.06.94-2.06 2.06-.94-2.06-.94-.94-2.06-.94 2.06-2.06.94z\"/><path d=\"M17.41 7.96l-1.37-1.37c-.4-.4-.92-.59-1.43-.59-.52 0-1.04.2-1.43.59L10.3 9.45l-7.72 7.72c-.78.78-.78 2.05 0 2.83L4 21.41c.39.39.9.59 1.41.59.51 0 1.02-.2 1.41-.59l7.78-7.78 2.81-2.81c.8-.78.8-2.07 0-2.86zM5.41 20L4 18.59l7.72-7.72 1.47 1.35L5.41 20z\"/>\n",
              "  </svg>\n",
              "      </button>\n",
              "      \n",
              "  <style>\n",
              "    .colab-df-container {\n",
              "      display:flex;\n",
              "      flex-wrap:wrap;\n",
              "      gap: 12px;\n",
              "    }\n",
              "\n",
              "    .colab-df-convert {\n",
              "      background-color: #E8F0FE;\n",
              "      border: none;\n",
              "      border-radius: 50%;\n",
              "      cursor: pointer;\n",
              "      display: none;\n",
              "      fill: #1967D2;\n",
              "      height: 32px;\n",
              "      padding: 0 0 0 0;\n",
              "      width: 32px;\n",
              "    }\n",
              "\n",
              "    .colab-df-convert:hover {\n",
              "      background-color: #E2EBFA;\n",
              "      box-shadow: 0px 1px 2px rgba(60, 64, 67, 0.3), 0px 1px 3px 1px rgba(60, 64, 67, 0.15);\n",
              "      fill: #174EA6;\n",
              "    }\n",
              "\n",
              "    [theme=dark] .colab-df-convert {\n",
              "      background-color: #3B4455;\n",
              "      fill: #D2E3FC;\n",
              "    }\n",
              "\n",
              "    [theme=dark] .colab-df-convert:hover {\n",
              "      background-color: #434B5C;\n",
              "      box-shadow: 0px 1px 3px 1px rgba(0, 0, 0, 0.15);\n",
              "      filter: drop-shadow(0px 1px 2px rgba(0, 0, 0, 0.3));\n",
              "      fill: #FFFFFF;\n",
              "    }\n",
              "  </style>\n",
              "\n",
              "      <script>\n",
              "        const buttonEl =\n",
              "          document.querySelector('#df-3db8a47d-084f-442d-b481-9a04c79ff2d1 button.colab-df-convert');\n",
              "        buttonEl.style.display =\n",
              "          google.colab.kernel.accessAllowed ? 'block' : 'none';\n",
              "\n",
              "        async function convertToInteractive(key) {\n",
              "          const element = document.querySelector('#df-3db8a47d-084f-442d-b481-9a04c79ff2d1');\n",
              "          const dataTable =\n",
              "            await google.colab.kernel.invokeFunction('convertToInteractive',\n",
              "                                                     [key], {});\n",
              "          if (!dataTable) return;\n",
              "\n",
              "          const docLinkHtml = 'Like what you see? Visit the ' +\n",
              "            '<a target=\"_blank\" href=https://colab.research.google.com/notebooks/data_table.ipynb>data table notebook</a>'\n",
              "            + ' to learn more about interactive tables.';\n",
              "          element.innerHTML = '';\n",
              "          dataTable['output_type'] = 'display_data';\n",
              "          await google.colab.output.renderOutput(dataTable, element);\n",
              "          const docLink = document.createElement('div');\n",
              "          docLink.innerHTML = docLinkHtml;\n",
              "          element.appendChild(docLink);\n",
              "        }\n",
              "      </script>\n",
              "    </div>\n",
              "  </div>\n",
              "  "
            ]
          },
          "metadata": {},
          "execution_count": 64
        }
      ]
    },
    {
      "cell_type": "code",
      "source": [
        "final_df=df_5.copy()"
      ],
      "metadata": {
        "id": "PReQ9dCrEKHz"
      },
      "execution_count": 65,
      "outputs": []
    },
    {
      "cell_type": "code",
      "source": [
        "final_df"
      ],
      "metadata": {
        "colab": {
          "base_uri": "https://localhost:8080/",
          "height": 661
        },
        "id": "bD4xkyzDdf1H",
        "outputId": "7d313c98-e5dc-44e6-a2d7-6ba6ba08e6f5"
      },
      "execution_count": 66,
      "outputs": [
        {
          "output_type": "execute_result",
          "data": {
            "text/plain": [
              "       timekey  new_sku_three_month_flag_N  new_sku_three_month_flag_Y  \\\n",
              "0   2018-01-07                           1                           0   \n",
              "1   2018-01-07                           1                           0   \n",
              "2   2018-01-07                           1                           0   \n",
              "3   2018-01-14                           0                           1   \n",
              "4   2018-01-14                           0                           1   \n",
              "..         ...                         ...                         ...   \n",
              "375 2019-12-22                           1                           0   \n",
              "376 2019-12-22                           1                           0   \n",
              "377 2019-12-29                           1                           0   \n",
              "378 2019-12-29                           1                           0   \n",
              "379 2019-12-29                           1                           0   \n",
              "\n",
              "     locationkey_11  locationkey_3  locationkey_7  total_sales_units  \\\n",
              "0                 0              0              1                 12   \n",
              "1                 0              1              0                 11   \n",
              "2                 1              0              0                  7   \n",
              "3                 0              0              1                  2   \n",
              "4                 0              1              0                  6   \n",
              "..              ...            ...            ...                ...   \n",
              "375               0              1              0                 15   \n",
              "376               1              0              0                 21   \n",
              "377               0              0              1                 21   \n",
              "378               0              1              0                 18   \n",
              "379               1              0              0                 17   \n",
              "\n",
              "     total_sales_units_lag_1week  total_sales_units_lag_2week  \\\n",
              "0                            NaN                          NaN   \n",
              "1                            NaN                          NaN   \n",
              "2                            NaN                          NaN   \n",
              "3                            NaN                          NaN   \n",
              "4                            NaN                          NaN   \n",
              "..                           ...                          ...   \n",
              "375                         20.0                         16.0   \n",
              "376                         13.0                         21.0   \n",
              "377                         21.0                         20.0   \n",
              "378                         15.0                         20.0   \n",
              "379                         21.0                         13.0   \n",
              "\n",
              "     total_sales_units_lag_3week  total_sales_units_lag_4week  \\\n",
              "0                            NaN                          NaN   \n",
              "1                            NaN                          NaN   \n",
              "2                            NaN                          NaN   \n",
              "3                            NaN                          NaN   \n",
              "4                            NaN                          NaN   \n",
              "..                           ...                          ...   \n",
              "375                         25.0                         17.0   \n",
              "376                         12.0                         21.0   \n",
              "377                         23.0                         23.0   \n",
              "378                         16.0                         25.0   \n",
              "379                         21.0                         12.0   \n",
              "\n",
              "     total_sales_units_lag_5week  \n",
              "0                            NaN  \n",
              "1                            NaN  \n",
              "2                            NaN  \n",
              "3                            NaN  \n",
              "4                            NaN  \n",
              "..                           ...  \n",
              "375                         17.0  \n",
              "376                         11.0  \n",
              "377                         19.0  \n",
              "378                         17.0  \n",
              "379                         21.0  \n",
              "\n",
              "[380 rows x 12 columns]"
            ],
            "text/html": [
              "\n",
              "  <div id=\"df-8b3c03f0-ce22-4b56-9e8a-48726aedb47d\">\n",
              "    <div class=\"colab-df-container\">\n",
              "      <div>\n",
              "<style scoped>\n",
              "    .dataframe tbody tr th:only-of-type {\n",
              "        vertical-align: middle;\n",
              "    }\n",
              "\n",
              "    .dataframe tbody tr th {\n",
              "        vertical-align: top;\n",
              "    }\n",
              "\n",
              "    .dataframe thead th {\n",
              "        text-align: right;\n",
              "    }\n",
              "</style>\n",
              "<table border=\"1\" class=\"dataframe\">\n",
              "  <thead>\n",
              "    <tr style=\"text-align: right;\">\n",
              "      <th></th>\n",
              "      <th>timekey</th>\n",
              "      <th>new_sku_three_month_flag_N</th>\n",
              "      <th>new_sku_three_month_flag_Y</th>\n",
              "      <th>locationkey_11</th>\n",
              "      <th>locationkey_3</th>\n",
              "      <th>locationkey_7</th>\n",
              "      <th>total_sales_units</th>\n",
              "      <th>total_sales_units_lag_1week</th>\n",
              "      <th>total_sales_units_lag_2week</th>\n",
              "      <th>total_sales_units_lag_3week</th>\n",
              "      <th>total_sales_units_lag_4week</th>\n",
              "      <th>total_sales_units_lag_5week</th>\n",
              "    </tr>\n",
              "  </thead>\n",
              "  <tbody>\n",
              "    <tr>\n",
              "      <th>0</th>\n",
              "      <td>2018-01-07</td>\n",
              "      <td>1</td>\n",
              "      <td>0</td>\n",
              "      <td>0</td>\n",
              "      <td>0</td>\n",
              "      <td>1</td>\n",
              "      <td>12</td>\n",
              "      <td>NaN</td>\n",
              "      <td>NaN</td>\n",
              "      <td>NaN</td>\n",
              "      <td>NaN</td>\n",
              "      <td>NaN</td>\n",
              "    </tr>\n",
              "    <tr>\n",
              "      <th>1</th>\n",
              "      <td>2018-01-07</td>\n",
              "      <td>1</td>\n",
              "      <td>0</td>\n",
              "      <td>0</td>\n",
              "      <td>1</td>\n",
              "      <td>0</td>\n",
              "      <td>11</td>\n",
              "      <td>NaN</td>\n",
              "      <td>NaN</td>\n",
              "      <td>NaN</td>\n",
              "      <td>NaN</td>\n",
              "      <td>NaN</td>\n",
              "    </tr>\n",
              "    <tr>\n",
              "      <th>2</th>\n",
              "      <td>2018-01-07</td>\n",
              "      <td>1</td>\n",
              "      <td>0</td>\n",
              "      <td>1</td>\n",
              "      <td>0</td>\n",
              "      <td>0</td>\n",
              "      <td>7</td>\n",
              "      <td>NaN</td>\n",
              "      <td>NaN</td>\n",
              "      <td>NaN</td>\n",
              "      <td>NaN</td>\n",
              "      <td>NaN</td>\n",
              "    </tr>\n",
              "    <tr>\n",
              "      <th>3</th>\n",
              "      <td>2018-01-14</td>\n",
              "      <td>0</td>\n",
              "      <td>1</td>\n",
              "      <td>0</td>\n",
              "      <td>0</td>\n",
              "      <td>1</td>\n",
              "      <td>2</td>\n",
              "      <td>NaN</td>\n",
              "      <td>NaN</td>\n",
              "      <td>NaN</td>\n",
              "      <td>NaN</td>\n",
              "      <td>NaN</td>\n",
              "    </tr>\n",
              "    <tr>\n",
              "      <th>4</th>\n",
              "      <td>2018-01-14</td>\n",
              "      <td>0</td>\n",
              "      <td>1</td>\n",
              "      <td>0</td>\n",
              "      <td>1</td>\n",
              "      <td>0</td>\n",
              "      <td>6</td>\n",
              "      <td>NaN</td>\n",
              "      <td>NaN</td>\n",
              "      <td>NaN</td>\n",
              "      <td>NaN</td>\n",
              "      <td>NaN</td>\n",
              "    </tr>\n",
              "    <tr>\n",
              "      <th>...</th>\n",
              "      <td>...</td>\n",
              "      <td>...</td>\n",
              "      <td>...</td>\n",
              "      <td>...</td>\n",
              "      <td>...</td>\n",
              "      <td>...</td>\n",
              "      <td>...</td>\n",
              "      <td>...</td>\n",
              "      <td>...</td>\n",
              "      <td>...</td>\n",
              "      <td>...</td>\n",
              "      <td>...</td>\n",
              "    </tr>\n",
              "    <tr>\n",
              "      <th>375</th>\n",
              "      <td>2019-12-22</td>\n",
              "      <td>1</td>\n",
              "      <td>0</td>\n",
              "      <td>0</td>\n",
              "      <td>1</td>\n",
              "      <td>0</td>\n",
              "      <td>15</td>\n",
              "      <td>20.0</td>\n",
              "      <td>16.0</td>\n",
              "      <td>25.0</td>\n",
              "      <td>17.0</td>\n",
              "      <td>17.0</td>\n",
              "    </tr>\n",
              "    <tr>\n",
              "      <th>376</th>\n",
              "      <td>2019-12-22</td>\n",
              "      <td>1</td>\n",
              "      <td>0</td>\n",
              "      <td>1</td>\n",
              "      <td>0</td>\n",
              "      <td>0</td>\n",
              "      <td>21</td>\n",
              "      <td>13.0</td>\n",
              "      <td>21.0</td>\n",
              "      <td>12.0</td>\n",
              "      <td>21.0</td>\n",
              "      <td>11.0</td>\n",
              "    </tr>\n",
              "    <tr>\n",
              "      <th>377</th>\n",
              "      <td>2019-12-29</td>\n",
              "      <td>1</td>\n",
              "      <td>0</td>\n",
              "      <td>0</td>\n",
              "      <td>0</td>\n",
              "      <td>1</td>\n",
              "      <td>21</td>\n",
              "      <td>21.0</td>\n",
              "      <td>20.0</td>\n",
              "      <td>23.0</td>\n",
              "      <td>23.0</td>\n",
              "      <td>19.0</td>\n",
              "    </tr>\n",
              "    <tr>\n",
              "      <th>378</th>\n",
              "      <td>2019-12-29</td>\n",
              "      <td>1</td>\n",
              "      <td>0</td>\n",
              "      <td>0</td>\n",
              "      <td>1</td>\n",
              "      <td>0</td>\n",
              "      <td>18</td>\n",
              "      <td>15.0</td>\n",
              "      <td>20.0</td>\n",
              "      <td>16.0</td>\n",
              "      <td>25.0</td>\n",
              "      <td>17.0</td>\n",
              "    </tr>\n",
              "    <tr>\n",
              "      <th>379</th>\n",
              "      <td>2019-12-29</td>\n",
              "      <td>1</td>\n",
              "      <td>0</td>\n",
              "      <td>1</td>\n",
              "      <td>0</td>\n",
              "      <td>0</td>\n",
              "      <td>17</td>\n",
              "      <td>21.0</td>\n",
              "      <td>13.0</td>\n",
              "      <td>21.0</td>\n",
              "      <td>12.0</td>\n",
              "      <td>21.0</td>\n",
              "    </tr>\n",
              "  </tbody>\n",
              "</table>\n",
              "<p>380 rows × 12 columns</p>\n",
              "</div>\n",
              "      <button class=\"colab-df-convert\" onclick=\"convertToInteractive('df-8b3c03f0-ce22-4b56-9e8a-48726aedb47d')\"\n",
              "              title=\"Convert this dataframe to an interactive table.\"\n",
              "              style=\"display:none;\">\n",
              "        \n",
              "  <svg xmlns=\"http://www.w3.org/2000/svg\" height=\"24px\"viewBox=\"0 0 24 24\"\n",
              "       width=\"24px\">\n",
              "    <path d=\"M0 0h24v24H0V0z\" fill=\"none\"/>\n",
              "    <path d=\"M18.56 5.44l.94 2.06.94-2.06 2.06-.94-2.06-.94-.94-2.06-.94 2.06-2.06.94zm-11 1L8.5 8.5l.94-2.06 2.06-.94-2.06-.94L8.5 2.5l-.94 2.06-2.06.94zm10 10l.94 2.06.94-2.06 2.06-.94-2.06-.94-.94-2.06-.94 2.06-2.06.94z\"/><path d=\"M17.41 7.96l-1.37-1.37c-.4-.4-.92-.59-1.43-.59-.52 0-1.04.2-1.43.59L10.3 9.45l-7.72 7.72c-.78.78-.78 2.05 0 2.83L4 21.41c.39.39.9.59 1.41.59.51 0 1.02-.2 1.41-.59l7.78-7.78 2.81-2.81c.8-.78.8-2.07 0-2.86zM5.41 20L4 18.59l7.72-7.72 1.47 1.35L5.41 20z\"/>\n",
              "  </svg>\n",
              "      </button>\n",
              "      \n",
              "  <style>\n",
              "    .colab-df-container {\n",
              "      display:flex;\n",
              "      flex-wrap:wrap;\n",
              "      gap: 12px;\n",
              "    }\n",
              "\n",
              "    .colab-df-convert {\n",
              "      background-color: #E8F0FE;\n",
              "      border: none;\n",
              "      border-radius: 50%;\n",
              "      cursor: pointer;\n",
              "      display: none;\n",
              "      fill: #1967D2;\n",
              "      height: 32px;\n",
              "      padding: 0 0 0 0;\n",
              "      width: 32px;\n",
              "    }\n",
              "\n",
              "    .colab-df-convert:hover {\n",
              "      background-color: #E2EBFA;\n",
              "      box-shadow: 0px 1px 2px rgba(60, 64, 67, 0.3), 0px 1px 3px 1px rgba(60, 64, 67, 0.15);\n",
              "      fill: #174EA6;\n",
              "    }\n",
              "\n",
              "    [theme=dark] .colab-df-convert {\n",
              "      background-color: #3B4455;\n",
              "      fill: #D2E3FC;\n",
              "    }\n",
              "\n",
              "    [theme=dark] .colab-df-convert:hover {\n",
              "      background-color: #434B5C;\n",
              "      box-shadow: 0px 1px 3px 1px rgba(0, 0, 0, 0.15);\n",
              "      filter: drop-shadow(0px 1px 2px rgba(0, 0, 0, 0.3));\n",
              "      fill: #FFFFFF;\n",
              "    }\n",
              "  </style>\n",
              "\n",
              "      <script>\n",
              "        const buttonEl =\n",
              "          document.querySelector('#df-8b3c03f0-ce22-4b56-9e8a-48726aedb47d button.colab-df-convert');\n",
              "        buttonEl.style.display =\n",
              "          google.colab.kernel.accessAllowed ? 'block' : 'none';\n",
              "\n",
              "        async function convertToInteractive(key) {\n",
              "          const element = document.querySelector('#df-8b3c03f0-ce22-4b56-9e8a-48726aedb47d');\n",
              "          const dataTable =\n",
              "            await google.colab.kernel.invokeFunction('convertToInteractive',\n",
              "                                                     [key], {});\n",
              "          if (!dataTable) return;\n",
              "\n",
              "          const docLinkHtml = 'Like what you see? Visit the ' +\n",
              "            '<a target=\"_blank\" href=https://colab.research.google.com/notebooks/data_table.ipynb>data table notebook</a>'\n",
              "            + ' to learn more about interactive tables.';\n",
              "          element.innerHTML = '';\n",
              "          dataTable['output_type'] = 'display_data';\n",
              "          await google.colab.output.renderOutput(dataTable, element);\n",
              "          const docLink = document.createElement('div');\n",
              "          docLink.innerHTML = docLinkHtml;\n",
              "          element.appendChild(docLink);\n",
              "        }\n",
              "      </script>\n",
              "    </div>\n",
              "  </div>\n",
              "  "
            ]
          },
          "metadata": {},
          "execution_count": 66
        }
      ]
    },
    {
      "cell_type": "code",
      "source": [
        "final_df=final_df.dropna()\n",
        "X=final_df.drop(['timekey','total_sales_units'],axis=1)\n",
        "y=final_df['total_sales_units']\n"
      ],
      "metadata": {
        "id": "SqnsIVFbdhf4"
      },
      "execution_count": 81,
      "outputs": []
    },
    {
      "cell_type": "code",
      "source": [
        "X_train=X[:305]\n",
        "X_test=X[305:]\n",
        "y_train=y[:305]\n",
        "y_test=y[305:]"
      ],
      "metadata": {
        "id": "ZJgmym9He1t4"
      },
      "execution_count": 82,
      "outputs": []
    },
    {
      "cell_type": "code",
      "source": [
        "from sklearn.ensemble import RandomForestRegressor"
      ],
      "metadata": {
        "id": "O0d5MsuGd_Ub"
      },
      "execution_count": 83,
      "outputs": []
    },
    {
      "cell_type": "code",
      "source": [
        "model=RandomForestRegressor()"
      ],
      "metadata": {
        "id": "U6qbZJ_3eGx6"
      },
      "execution_count": 84,
      "outputs": []
    },
    {
      "cell_type": "code",
      "source": [
        "model.fit(X_train,y_train)"
      ],
      "metadata": {
        "colab": {
          "base_uri": "https://localhost:8080/"
        },
        "id": "4nXUwQUPeW3O",
        "outputId": "c070f436-46e3-4468-e326-6135b7625196"
      },
      "execution_count": 85,
      "outputs": [
        {
          "output_type": "execute_result",
          "data": {
            "text/plain": [
              "RandomForestRegressor()"
            ]
          },
          "metadata": {},
          "execution_count": 85
        }
      ]
    },
    {
      "cell_type": "code",
      "source": [
        "model.score(X_train,y_train)"
      ],
      "metadata": {
        "colab": {
          "base_uri": "https://localhost:8080/"
        },
        "id": "8W8GexmnfHhM",
        "outputId": "274220ad-0eac-4c7e-f59e-0377dae52ea7"
      },
      "execution_count": 87,
      "outputs": [
        {
          "output_type": "execute_result",
          "data": {
            "text/plain": [
              "0.9441221460635092"
            ]
          },
          "metadata": {},
          "execution_count": 87
        }
      ]
    },
    {
      "cell_type": "code",
      "source": [
        "y_pred=model.predict(X_test)"
      ],
      "metadata": {
        "id": "eANYDWzLffAp"
      },
      "execution_count": 88,
      "outputs": []
    },
    {
      "cell_type": "code",
      "source": [
        "from sklearn.metrics import mean_squared_error"
      ],
      "metadata": {
        "id": "Z8kKHky1fmLb"
      },
      "execution_count": 90,
      "outputs": []
    },
    {
      "cell_type": "code",
      "source": [
        "mean_squared_error(y_test,y_pred)"
      ],
      "metadata": {
        "colab": {
          "base_uri": "https://localhost:8080/"
        },
        "id": "Gzoi9WpjfrPg",
        "outputId": "54e448e5-b040-4220-d0ab-cb74b92dea86"
      },
      "execution_count": 91,
      "outputs": [
        {
          "output_type": "execute_result",
          "data": {
            "text/plain": [
              "11.690979398148148"
            ]
          },
          "metadata": {},
          "execution_count": 91
        }
      ]
    },
    {
      "cell_type": "code",
      "source": [
        "import math"
      ],
      "metadata": {
        "id": "kF9ayJglf5iM"
      },
      "execution_count": 92,
      "outputs": []
    },
    {
      "cell_type": "code",
      "source": [
        "math.sqrt(mean_squared_error(y_test,y_pred))"
      ],
      "metadata": {
        "colab": {
          "base_uri": "https://localhost:8080/"
        },
        "id": "xhR-bOn2f_6A",
        "outputId": "28d05113-5e23-4434-c93d-dccee67992d3"
      },
      "execution_count": 93,
      "outputs": [
        {
          "output_type": "execute_result",
          "data": {
            "text/plain": [
              "3.419207422510098"
            ]
          },
          "metadata": {},
          "execution_count": 93
        }
      ]
    },
    {
      "cell_type": "code",
      "source": [
        ""
      ],
      "metadata": {
        "id": "8fKtnK2RgDo3"
      },
      "execution_count": null,
      "outputs": []
    }
  ]
}